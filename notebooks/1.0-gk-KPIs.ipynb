{
 "cells": [
  {
   "cell_type": "code",
   "execution_count": 128,
   "metadata": {},
   "outputs": [],
   "source": [
    "import pandas as pd\n",
    "import numpy as np\n",
    "from datetime import datetime, timedelta"
   ]
  },
  {
   "cell_type": "code",
   "execution_count": 146,
   "metadata": {},
   "outputs": [
    {
     "data": {
      "text/html": [
       "<div>\n",
       "<style scoped>\n",
       "    .dataframe tbody tr th:only-of-type {\n",
       "        vertical-align: middle;\n",
       "    }\n",
       "\n",
       "    .dataframe tbody tr th {\n",
       "        vertical-align: top;\n",
       "    }\n",
       "\n",
       "    .dataframe thead th {\n",
       "        text-align: right;\n",
       "    }\n",
       "</style>\n",
       "<table border=\"1\" class=\"dataframe\">\n",
       "  <thead>\n",
       "    <tr style=\"text-align: right;\">\n",
       "      <th></th>\n",
       "      <th>uid</th>\n",
       "      <th>reg_date</th>\n",
       "      <th>device</th>\n",
       "      <th>gender</th>\n",
       "      <th>country</th>\n",
       "      <th>age</th>\n",
       "    </tr>\n",
       "  </thead>\n",
       "  <tbody>\n",
       "    <tr>\n",
       "      <th>0</th>\n",
       "      <td>54030035</td>\n",
       "      <td>2017-06-29</td>\n",
       "      <td>and</td>\n",
       "      <td>M</td>\n",
       "      <td>USA</td>\n",
       "      <td>19</td>\n",
       "    </tr>\n",
       "    <tr>\n",
       "      <th>1</th>\n",
       "      <td>72574201</td>\n",
       "      <td>2018-03-05</td>\n",
       "      <td>iOS</td>\n",
       "      <td>F</td>\n",
       "      <td>TUR</td>\n",
       "      <td>22</td>\n",
       "    </tr>\n",
       "    <tr>\n",
       "      <th>2</th>\n",
       "      <td>64187558</td>\n",
       "      <td>2016-02-07</td>\n",
       "      <td>iOS</td>\n",
       "      <td>M</td>\n",
       "      <td>USA</td>\n",
       "      <td>16</td>\n",
       "    </tr>\n",
       "    <tr>\n",
       "      <th>3</th>\n",
       "      <td>92513925</td>\n",
       "      <td>2017-05-25</td>\n",
       "      <td>and</td>\n",
       "      <td>M</td>\n",
       "      <td>BRA</td>\n",
       "      <td>41</td>\n",
       "    </tr>\n",
       "    <tr>\n",
       "      <th>4</th>\n",
       "      <td>99231338</td>\n",
       "      <td>2017-03-26</td>\n",
       "      <td>iOS</td>\n",
       "      <td>M</td>\n",
       "      <td>FRA</td>\n",
       "      <td>59</td>\n",
       "    </tr>\n",
       "  </tbody>\n",
       "</table>\n",
       "</div>"
      ],
      "text/plain": [
       "        uid   reg_date device gender country  age\n",
       "0  54030035 2017-06-29    and      M     USA   19\n",
       "1  72574201 2018-03-05    iOS      F     TUR   22\n",
       "2  64187558 2016-02-07    iOS      M     USA   16\n",
       "3  92513925 2017-05-25    and      M     BRA   41\n",
       "4  99231338 2017-03-26    iOS      M     FRA   59"
      ]
     },
     "execution_count": 146,
     "metadata": {},
     "output_type": "execute_result"
    }
   ],
   "source": [
    "# Dataset 1: User demographics\n",
    "customer_data = pd.read_csv('../data/raw/user_demographics.csv', parse_dates=['reg_date'], infer_datetime_format=True)\n",
    "customer_data.uid = customer_data.uid.astype('int')\n",
    "customer_data.age = customer_data.age.astype('int')\n",
    "customer_data.head()"
   ]
  },
  {
   "cell_type": "code",
   "execution_count": 130,
   "metadata": {},
   "outputs": [
    {
     "name": "stdout",
     "output_type": "stream",
     "text": [
      "<class 'pandas.core.frame.DataFrame'>\n",
      "RangeIndex: 10000 entries, 0 to 9999\n",
      "Data columns (total 6 columns):\n",
      " #   Column    Non-Null Count  Dtype \n",
      "---  ------    --------------  ----- \n",
      " 0   uid       10000 non-null  int64 \n",
      " 1   reg_date  10000 non-null  object\n",
      " 2   device    10000 non-null  object\n",
      " 3   gender    10000 non-null  object\n",
      " 4   country   10000 non-null  object\n",
      " 5   age       10000 non-null  int64 \n",
      "dtypes: int64(2), object(4)\n",
      "memory usage: 468.9+ KB\n"
     ]
    }
   ],
   "source": [
    "customer_data.info()"
   ]
  },
  {
   "cell_type": "code",
   "execution_count": 148,
   "metadata": {},
   "outputs": [
    {
     "data": {
      "text/html": [
       "<div>\n",
       "<style scoped>\n",
       "    .dataframe tbody tr th:only-of-type {\n",
       "        vertical-align: middle;\n",
       "    }\n",
       "\n",
       "    .dataframe tbody tr th {\n",
       "        vertical-align: top;\n",
       "    }\n",
       "\n",
       "    .dataframe thead th {\n",
       "        text-align: right;\n",
       "    }\n",
       "</style>\n",
       "<table border=\"1\" class=\"dataframe\">\n",
       "  <thead>\n",
       "    <tr style=\"text-align: right;\">\n",
       "      <th></th>\n",
       "      <th>date</th>\n",
       "      <th>uid</th>\n",
       "      <th>sku</th>\n",
       "      <th>price</th>\n",
       "    </tr>\n",
       "  </thead>\n",
       "  <tbody>\n",
       "    <tr>\n",
       "      <th>0</th>\n",
       "      <td>2017-07-10</td>\n",
       "      <td>41195147</td>\n",
       "      <td>sku_three_499</td>\n",
       "      <td>499</td>\n",
       "    </tr>\n",
       "    <tr>\n",
       "      <th>1</th>\n",
       "      <td>2017-07-15</td>\n",
       "      <td>41195147</td>\n",
       "      <td>sku_three_499</td>\n",
       "      <td>499</td>\n",
       "    </tr>\n",
       "    <tr>\n",
       "      <th>2</th>\n",
       "      <td>2017-11-12</td>\n",
       "      <td>41195147</td>\n",
       "      <td>sku_four_599</td>\n",
       "      <td>599</td>\n",
       "    </tr>\n",
       "    <tr>\n",
       "      <th>3</th>\n",
       "      <td>2017-09-26</td>\n",
       "      <td>91591874</td>\n",
       "      <td>sku_two_299</td>\n",
       "      <td>299</td>\n",
       "    </tr>\n",
       "    <tr>\n",
       "      <th>4</th>\n",
       "      <td>2017-12-01</td>\n",
       "      <td>91591874</td>\n",
       "      <td>sku_four_599</td>\n",
       "      <td>599</td>\n",
       "    </tr>\n",
       "  </tbody>\n",
       "</table>\n",
       "</div>"
      ],
      "text/plain": [
       "        date       uid            sku  price\n",
       "0 2017-07-10  41195147  sku_three_499    499\n",
       "1 2017-07-15  41195147  sku_three_499    499\n",
       "2 2017-11-12  41195147   sku_four_599    599\n",
       "3 2017-09-26  91591874    sku_two_299    299\n",
       "4 2017-12-01  91591874   sku_four_599    599"
      ]
     },
     "execution_count": 148,
     "metadata": {},
     "output_type": "execute_result"
    }
   ],
   "source": [
    "# Dataset 2: User actions\n",
    "app_purchases = pd.read_csv('../data/raw/inapp_purchases.csv', parse_dates=['date'], infer_datetime_format=True)\n",
    "app_purchases.head()\n"
   ]
  },
  {
   "cell_type": "code",
   "execution_count": 149,
   "metadata": {},
   "outputs": [
    {
     "name": "stdout",
     "output_type": "stream",
     "text": [
      "<class 'pandas.core.frame.DataFrame'>\n",
      "RangeIndex: 9006 entries, 0 to 9005\n",
      "Data columns (total 4 columns):\n",
      " #   Column  Non-Null Count  Dtype         \n",
      "---  ------  --------------  -----         \n",
      " 0   date    9006 non-null   datetime64[ns]\n",
      " 1   uid     9006 non-null   int64         \n",
      " 2   sku     9006 non-null   object        \n",
      " 3   price   9006 non-null   int64         \n",
      "dtypes: datetime64[ns](1), int64(2), object(1)\n",
      "memory usage: 281.6+ KB\n"
     ]
    }
   ],
   "source": [
    "app_purchases.info()"
   ]
  },
  {
   "cell_type": "code",
   "execution_count": 157,
   "metadata": {},
   "outputs": [
    {
     "name": "stdout",
     "output_type": "stream",
     "text": [
      "        date       uid            sku  price   reg_date device gender country  \\\n",
      "0 2017-07-10  41195147  sku_three_499    499 2017-06-26    and      M     BRA   \n",
      "1 2017-07-15  41195147  sku_three_499    499 2017-06-26    and      M     BRA   \n",
      "2 2017-11-12  41195147   sku_four_599    599 2017-06-26    and      M     BRA   \n",
      "3 2017-09-26  91591874    sku_two_299    299 2017-01-05    and      M     TUR   \n",
      "4 2017-12-01  91591874   sku_four_599    599 2017-01-05    and      M     TUR   \n",
      "\n",
      "   age  \n",
      "0   17  \n",
      "1   17  \n",
      "2   17  \n",
      "3   17  \n",
      "4   17  \n",
      "9006\n",
      "<class 'pandas.core.frame.DataFrame'>\n",
      "Int64Index: 9006 entries, 0 to 9005\n",
      "Data columns (total 9 columns):\n",
      " #   Column    Non-Null Count  Dtype         \n",
      "---  ------    --------------  -----         \n",
      " 0   date      9006 non-null   datetime64[ns]\n",
      " 1   uid       9006 non-null   int64         \n",
      " 2   sku       9006 non-null   object        \n",
      " 3   price     9006 non-null   int64         \n",
      " 4   reg_date  9006 non-null   datetime64[ns]\n",
      " 5   device    9006 non-null   object        \n",
      " 6   gender    9006 non-null   object        \n",
      " 7   country   9006 non-null   object        \n",
      " 8   age       9006 non-null   int64         \n",
      "dtypes: datetime64[ns](2), int64(3), object(4)\n",
      "memory usage: 703.6+ KB\n",
      "None\n"
     ]
    }
   ],
   "source": [
    "# Merge on the 'uid' field\n",
    "purchase_data = app_purchases.merge(customer_data, on=['uid'], how='inner')\n",
    "\n",
    "# Examine the results \n",
    "print(purchase_data.head())\n",
    "print(len(purchase_data))\n",
    "print(purchase_data.info())\n",
    "purchase_data.to_csv('../data/clean/purchase_data.csv')"
   ]
  },
  {
   "cell_type": "code",
   "execution_count": 152,
   "metadata": {},
   "outputs": [
    {
     "name": "stdout",
     "output_type": "stream",
     "text": [
      "             price        age\n",
      "mean    406.772596  23.922274\n",
      "median  299.000000  21.000000\n"
     ]
    }
   ],
   "source": [
    "# Calculate the mean purchase price \n",
    "purchase_price_mean = purchase_data.agg({'price': ['mean', 'median'], 'age': ['mean', 'median']})\n",
    "\n",
    "# Examine the output \n",
    "print(purchase_price_mean)\n"
   ]
  },
  {
   "cell_type": "code",
   "execution_count": 153,
   "metadata": {},
   "outputs": [
    {
     "name": "stdout",
     "output_type": "stream",
     "text": [
      "                    price                   \n",
      "                     mean median         std\n",
      "device gender                               \n",
      "and    F       400.747504  299.0  179.984378\n",
      "       M       416.237308  499.0  195.001520\n",
      "iOS    F       404.435330  299.0  181.524952\n",
      "       M       405.272401  299.0  196.843197\n"
     ]
    }
   ],
   "source": [
    "# Group the data \n",
    "grouped_purchase_data = purchase_data.groupby(by=['device', 'gender'])\n",
    "\n",
    "# Aggregate the data\n",
    "purchase_summary = grouped_purchase_data.agg({'price': ['mean', 'median', 'std']})\n",
    "\n",
    "# Examine the results\n",
    "print(purchase_summary)"
   ]
  },
  {
   "cell_type": "code",
   "execution_count": 154,
   "metadata": {},
   "outputs": [
    {
     "name": "stdout",
     "output_type": "stream",
     "text": [
      "<class 'pandas._libs.tslibs.timestamps.Timestamp'> <class 'pandas._libs.tslibs.timedeltas.Timedelta'>\n",
      "414.4237288135593\n"
     ]
    }
   ],
   "source": [
    "current_date = pd.Timestamp('2018-03-17')\n",
    "\n",
    "days = 28\n",
    "lapse_date = pd.to_timedelta(days,'d')\n",
    "\n",
    "\n",
    "# Compute max_purchase_date\n",
    "max_purchase_date = current_date - lapse_date\n",
    "print(type(current_date), type(lapse_date))\n",
    "# Filter to only include users who registered before our max date\n",
    "purchase_data_filt = purchase_data[purchase_data.reg_date < max_purchase_date]\n",
    "\n",
    "# Filter to contain only purchases within the first 28 days of registration\n",
    "purchase_data_filt = purchase_data_filt[(purchase_data_filt.date <= \n",
    "                        purchase_data_filt.reg_date + timedelta(days=28))]\n",
    "\n",
    "# Output the mean price paid per purchase\n",
    "print(purchase_data_filt.price.mean())"
   ]
  },
  {
   "cell_type": "code",
   "execution_count": 155,
   "metadata": {},
   "outputs": [
    {
     "name": "stdout",
     "output_type": "stream",
     "text": [
      "  gender device      month1              price       \n",
      "                       mean median        mean median\n",
      "0      F    and  388.204545  299.0  400.747504  299.0\n",
      "1      F    iOS  432.587786  499.0  404.435330  299.0\n",
      "2      M    and  413.705882  399.0  416.237308  499.0\n",
      "3      M    iOS  433.313725  499.0  405.272401  299.0\n"
     ]
    }
   ],
   "source": [
    "# Set the max registration date to be one month before today\n",
    "max_reg_date = current_date - timedelta(days=28)\n",
    "\n",
    "# Find the month 1 values\n",
    "month1 = np.where((purchase_data.reg_date < max_reg_date) &\n",
    "                 (purchase_data.date < purchase_data.reg_date + timedelta(days=28)),\n",
    "                  purchase_data.price, \n",
    "                  np.NaN)\n",
    "                 \n",
    "# Update the value in the DataFrame\n",
    "purchase_data['month1'] = month1\n",
    "\n",
    "# Group the data by gender and device \n",
    "purchase_data_upd = purchase_data.groupby(by=['gender', 'device'], as_index=False) \n",
    "\n",
    "# Aggregate the month1 and price data \n",
    "purchase_summary = purchase_data_upd.agg(\n",
    "                        {'month1': ['mean', 'median'],\n",
    "                        'price': ['mean', 'median']})\n",
    "\n",
    "# Examine the results \n",
    "print(purchase_summary)"
   ]
  },
  {
   "cell_type": "code",
   "execution_count": 156,
   "metadata": {},
   "outputs": [
    {
     "data": {
      "text/plain": [
       "dtype('<M8[ns]')"
      ]
     },
     "execution_count": 156,
     "metadata": {},
     "output_type": "execute_result"
    }
   ],
   "source": []
  },
  {
   "cell_type": "code",
   "execution_count": null,
   "metadata": {},
   "outputs": [],
   "source": []
  }
 ],
 "metadata": {
  "interpreter": {
   "hash": "7e7c2a5ec39c4cf6f16b83a143b1412933a0e5ae67c3a11965d44a03ea5403be"
  },
  "kernelspec": {
   "display_name": "Python 3.8.2 64-bit ('venv': venv)",
   "language": "python",
   "name": "python3"
  },
  "language_info": {
   "codemirror_mode": {
    "name": "ipython",
    "version": 3
   },
   "file_extension": ".py",
   "mimetype": "text/x-python",
   "name": "python",
   "nbconvert_exporter": "python",
   "pygments_lexer": "ipython3",
   "version": "3.8.2"
  },
  "orig_nbformat": 4
 },
 "nbformat": 4,
 "nbformat_minor": 2
}
